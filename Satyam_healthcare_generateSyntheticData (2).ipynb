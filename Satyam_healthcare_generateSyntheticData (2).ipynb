{
  "nbformat": 4,
  "nbformat_minor": 0,
  "metadata": {
    "colab": {
      "provenance": []
    },
    "kernelspec": {
      "name": "python3",
      "display_name": "Python 3"
    },
    "language_info": {
      "name": "python"
    }
  },
  "cells": [
    {
      "cell_type": "code",
      "execution_count": 5,
      "metadata": {
        "colab": {
          "base_uri": "https://localhost:8080/"
        },
        "id": "u06dY9hj_rGC",
        "outputId": "d2cd4cc2-d308-4360-94d3-19cec514afec"
      },
      "outputs": [
        {
          "output_type": "stream",
          "name": "stdout",
          "text": [
            "Custom healthcare cost dataset saved to custom_healthcare_cost_data.csv\n",
            "  Patient_ID  Department         Procedure  Medication_Cost  Procedure_Cost  \\\n",
            "0         P1    Oncology  Physical Therapy            198.0          1624.0   \n",
            "1         P2   Emergency           CT Scan            262.0          3648.0   \n",
            "2         P3  Pediatrics  Physical Therapy            385.0          4779.0   \n",
            "3         P4   Emergency  Physical Therapy            442.0          3663.0   \n",
            "4         P5   Emergency        Blood Test            245.0          4342.0   \n",
            "\n",
            "   Hospital_Stay_Duration Insurance_Type      Outcome    Location        Date  \\\n",
            "0                      10         Public      Ongoing    New York  2024-08-11   \n",
            "1                       5      Uninsured  Transferred       Texas  2024-09-18   \n",
            "2                      13      Uninsured  Transferred  California  2024-07-14   \n",
            "3                      14        Private      Ongoing     Florida  2024-05-21   \n",
            "4                       7      Uninsured    Recovered    New York  2024-11-12   \n",
            "\n",
            "   Total_Cost  Patient_Age Severity_Level  \n",
            "0      6822.0           57            Low  \n",
            "1      6410.0           42         Medium  \n",
            "2     11664.0           36            Low  \n",
            "3     11105.0           22            Low  \n",
            "4      8087.0           28           High  \n"
          ]
        }
      ],
      "source": [
        "import pandas as pd\n",
        "import numpy as np\n",
        "import random\n",
        "from datetime import datetime, timedelta\n",
        "\n",
        "# Set a random seed for reproducibility\n",
        "np.random.seed(42)\n",
        "\n",
        "# Define the number of records\n",
        "num_records = 1000\n",
        "\n",
        "# Define possible values\n",
        "departments = [\"Cardiology\", \"Orthopedics\", \"Pediatrics\", \"Oncology\", \"Emergency\", \"Neurology\"]\n",
        "procedures = [\"MRI\", \"Surgery\", \"X-Ray\", \"Blood Test\", \"CT Scan\", \"Physical Therapy\"]\n",
        "hospitals = [\"Hospital A\", \"Hospital B\", \"Hospital C\", \"Hospital D\"]\n",
        "outcomes = [\"Recovered\", \"Readmitted\", \"Ongoing\", \"Transferred\"]\n",
        "locations = [\"New York\", \"California\", \"Texas\", \"Florida\", \"Illinois\"]\n",
        "insurance_types = [\"Private\", \"Public\", \"Uninsured\"]\n",
        "\n",
        "# Generate synthetic data\n",
        "data = {\n",
        "    \"Patient_ID\": [f\"P{i}\" for i in range(1, num_records + 1)],\n",
        "    \"Department\": np.random.choice(departments, num_records),\n",
        "    \"Procedure\": np.random.choice(procedures, num_records),\n",
        "    \"Medication_Cost\": np.round(np.random.uniform(50, 500, num_records)),  # Random medication costs between $50 and $500\n",
        "    \"Procedure_Cost\": np.round(np.random.uniform(200, 5000, num_records)),  # Random procedure costs between $200 and $5000\n",
        "    \"Hospital_Stay_Duration\": np.random.randint(1, 15, num_records),  # Random hospital stay duration between 1 and 14 days\n",
        "    \"Insurance_Type\": np.random.choice(insurance_types, num_records),\n",
        "    \"Outcome\": np.random.choice(outcomes, num_records),\n",
        "    \"Location\": np.random.choice(locations, num_records),\n",
        "    \"Date\": [(datetime.now() - timedelta(days=random.randint(1, 365))).strftime(\"%Y-%m-%d\") for _ in range(num_records)],\n",
        "}\n",
        "\n",
        "# Create a DataFrame\n",
        "df = pd.DataFrame(data)\n",
        "\n",
        "# Calculate Total Cost (Medication Cost + Procedure Cost + Hospital Stay Cost)\n",
        "# Assume hospital stay cost is $500 per day\n",
        "df[\"Total_Cost\"] = df[\"Medication_Cost\"] + df[\"Procedure_Cost\"] + (df[\"Hospital_Stay_Duration\"] * 500)\n",
        "\n",
        "# Add a column for Patient Age\n",
        "df[\"Patient_Age\"] = np.random.randint(18, 80, num_records)\n",
        "\n",
        "# Add a column for Severity Level (random severity level for each patient)\n",
        "df[\"Severity_Level\"] = np.random.choice([\"Low\", \"Medium\", \"High\"], num_records)\n",
        "\n",
        "# Save the dataset to a CSV file\n",
        "df.to_csv(\"custom_healthcare_cost_data.csv\", index=False)\n",
        "print(\"Custom healthcare cost dataset saved to custom_healthcare_cost_data.csv\")\n",
        "\n",
        "# Display the first few rows of the dataset\n",
        "print(df.head())"
      ]
    }
  ]
}